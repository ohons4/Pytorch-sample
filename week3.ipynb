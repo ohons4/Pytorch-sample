{
 "cells": [
  {
   "cell_type": "markdown",
   "metadata": {},
   "source": [
    "## 畳み込み\n",
    "---\n",
    "### 1.1 畳み込みの使用方法\n",
    "画像をテンソルとして扱う用意"
   ]
  },
  {
   "cell_type": "code",
   "execution_count": 1,
   "metadata": {},
   "outputs": [
    {
     "ename": "SyntaxError",
     "evalue": "invalid syntax (2891522770.py, line 3)",
     "output_type": "error",
     "traceback": [
      "\u001b[0;36m  Cell \u001b[0;32mIn[1], line 3\u001b[0;36m\u001b[0m\n\u001b[0;31m    from torch\u001b[0m\n\u001b[0m              ^\u001b[0m\n\u001b[0;31mSyntaxError\u001b[0m\u001b[0;31m:\u001b[0m invalid syntax\n"
     ]
    }
   ],
   "source": [
    "import torch\n",
    "import torchvision\n",
    "from torchvision import transforms\n",
    "\n",
    "image_size = 32\n",
    "train_image_dir = \"./data/train\"\n",
    "val_image_dir = \"./data/val\"\n",
    "\n",
    "data_transfrom = {\n",
    "    'train': transforms.Compose([transforms.RandomResizedCrop(image_size), \n",
    "                                 transforms.ToTensor()]),\n",
    "    'val': transforms.Compose([transforms.RandomResizedCrop(image_size), \n",
    "                                 transforms.ToTensor()]),\n",
    "}\n",
    "\n",
    "tensor_train_dataset = torchvision.datasets.ImageFolder(\n",
    "                            root=train_image_dir,\n",
    "                            transform=data_transfrom[\"train\"])\n",
    "tensor_val_dataset = torchvision.datasets.ImageFolder(\n",
    "                            root=val_image_dir,\n",
    "                            transform=data_transfrom[\"val\"])\n",
    "\n",
    "img1_t, label = tensor_train_dataset[0]\n",
    "print(\"type:{}, label:{}, shape:{}, dtype:{}\".format(\n",
    "                                                type(img1_t),\n",
    "                                                label,\n",
    "                                                img1_t.shape,\n",
    "                                                img1_t.dtype))"
   ]
  },
  {
   "cell_type": "markdown",
   "metadata": {},
   "source": [
    "PyTorchには1次元、2次元、3次元のデータを対象にした畳み込み処理が用意されている。今回の実験では画像(2次元)のデータを扱っているので nn.Conv2d を使用します。nn.Conv2d を用意するには3つの引数が最低限必要になる。1つ目は入力特徴量の数（フルカラー画像の場合はRGBの3チャネルなので3）、2つ目は出力特徴量の数、3つ目はカーネルサイズ"
   ]
  },
  {
   "cell_type": "code",
   "execution_count": null,
   "metadata": {},
   "outputs": [],
   "source": [
    "import torch.nn as nn\n",
    "\n",
    "conv = nn.Conv2d(3, 16, kernel_size=3)\n",
    "print(conv)"
   ]
  },
  {
   "cell_type": "code",
   "execution_count": null,
   "metadata": {},
   "outputs": [],
   "source": [
    "print(\"weight:{}, bias:{}\".format(conv.weight.shape, conv.bias.shape))"
   ]
  },
  {
   "cell_type": "code",
   "execution_count": null,
   "metadata": {},
   "outputs": [],
   "source": [
    "img, label = tensor_train_dataset[0]\n",
    "output = conv(img.unsqueeze(0))\n",
    "print(\"img_shape:{}\".format(img.unsqueeze(0).shape))\n",
    "print(\"output_shape:{}\".format(output.shape))"
   ]
  }
 ],
 "metadata": {
  "kernelspec": {
   "display_name": "myenv",
   "language": "python",
   "name": "python3"
  },
  "language_info": {
   "codemirror_mode": {
    "name": "ipython",
    "version": 3
   },
   "file_extension": ".py",
   "mimetype": "text/x-python",
   "name": "python",
   "nbconvert_exporter": "python",
   "pygments_lexer": "ipython3",
   "version": "3.12.8"
  }
 },
 "nbformat": 4,
 "nbformat_minor": 2
}
